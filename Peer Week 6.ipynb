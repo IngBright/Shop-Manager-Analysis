{
 "cells": [
  {
   "attachments": {},
   "cell_type": "markdown",
   "metadata": {},
   "source": [
    "The owner wants you to do some analysis on data with these criteria's:\n",
    "\n",
    "    -calculate the total price average for all products\n",
    "\n",
    "    -create a new price list that reduces the old prices by GHC5\n",
    "\n",
    "    -calculate the total revenue generated from the products\n",
    "\n",
    "    -calculate the average daily revenue generated from the products\n",
    "\n",
    "    -based on the new prices, which products are less than GHC30 "
   ]
  },
  {
   "cell_type": "code",
   "execution_count": 2,
   "metadata": {},
   "outputs": [],
   "source": [
    "products = [\"Sankofa Foods\", \"Jamestown Coffee\", \"Bioko Chocolate\", \"Blue Skies Ice Cream\", \"Fair Afric Chocolate\", \"Kawa Moka Coffee\", \"Aphro Spirit\", \"Mensado Bissap\", \"Voltic\"]\n",
    "\n",
    "prices = [30, 25, 40, 20, 20, 35, 45, 50, 35]\n",
    "\n",
    "last_week = [2, 3, 5, 8, 4, 4, 6, 2, 9]"
   ]
  },
  {
   "cell_type": "code",
   "execution_count": 8,
   "metadata": {},
   "outputs": [
    {
     "name": "stdout",
     "output_type": "stream",
     "text": [
      "The total price average is GHC 33.33\n"
     ]
    }
   ],
   "source": [
    "#total price average\n",
    "prices = [30, 25, 40, 20, 20, 35, 45, 50, 35]\n",
    "total_price_average =  sum(prices) / len(prices)\n",
    "print(f'The total price average is GHC{total_price_average: .2f}')"
   ]
  },
  {
   "cell_type": "code",
   "execution_count": 23,
   "metadata": {},
   "outputs": [
    {
     "name": "stdout",
     "output_type": "stream",
     "text": [
      "[25, 20, 35, 15, 15, 30, 40, 45, 30]\n"
     ]
    }
   ],
   "source": [
    "#create a new price list that reduces the old prices by GHC5\n",
    "prices = [30, 25, 40, 20, 20, 35, 45, 50, 35]\n",
    "new_prices = []\n",
    "\n",
    "for price in prices :\n",
    "    new_price = price - 5\n",
    "    new_prices.append(new_price)\n",
    "\n",
    "print(new_prices)\n"
   ]
  },
  {
   "cell_type": "code",
   "execution_count": 22,
   "metadata": {},
   "outputs": [
    {
     "name": "stdout",
     "output_type": "stream",
     "text": [
      "1400\n"
     ]
    }
   ],
   "source": [
    "#calculate the total revenue generated from the products\n",
    "prices = [30, 25, 40, 20, 20, 35, 45, 50, 35]\n",
    "total_revenue = 0\n",
    "last_week = [2, 3, 5, 8, 4, 4, 6, 2, 9]\n",
    "for price, customer in zip(prices,last_week) :\n",
    "    revenue = price * customer \n",
    "    total_revenue += revenue\n",
    "print(total_revenue)\n",
    "\n"
   ]
  },
  {
   "cell_type": "code",
   "execution_count": 16,
   "metadata": {},
   "outputs": [
    {
     "name": "stdout",
     "output_type": "stream",
     "text": [
      "200.0\n"
     ]
    }
   ],
   "source": [
    "#calculate the average daily revenue generated from the products\n",
    "number_of_days = 7\n",
    "Average_daily_revenue = (total_revenue) / number_of_days\n",
    "print(Average_daily_revenue)"
   ]
  },
  {
   "cell_type": "code",
   "execution_count": 18,
   "metadata": {},
   "outputs": [
    {
     "name": "stdout",
     "output_type": "stream",
     "text": [
      "Sankofa Foods\n",
      "Jamestown Coffee\n",
      "Blue Skies Ice Cream\n",
      "Fair Afric Chocolate\n"
     ]
    }
   ],
   "source": [
    "#based on the new prices, which products are less than GHC30 \n",
    "product_dict = {\"Sankofa Foods\":25, \"Jamestown Coffee\":20, \"Bioko Chocolate\":35, \"Blue Skies Ice Cream\":15, \"Fair Afric Chocolate\":15, \"Kawa Moka Coffee\":30, \"Aphro Spirit\":40, \"Mensado Bissap\":45, \"Voltic\":30}\n",
    "for key,value in product_dict.items():\n",
    "    if value <30: \n",
    "        print(key)\n"
   ]
  }
 ],
 "metadata": {
  "kernelspec": {
   "display_name": "Python 3",
   "language": "python",
   "name": "python3"
  },
  "language_info": {
   "codemirror_mode": {
    "name": "ipython",
    "version": 3
   },
   "file_extension": ".py",
   "mimetype": "text/x-python",
   "name": "python",
   "nbconvert_exporter": "python",
   "pygments_lexer": "ipython3",
   "version": "3.11.3"
  },
  "orig_nbformat": 4
 },
 "nbformat": 4,
 "nbformat_minor": 2
}
